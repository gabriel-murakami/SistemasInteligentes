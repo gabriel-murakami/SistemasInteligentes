{
  "nbformat": 4,
  "nbformat_minor": 0,
  "metadata": {
    "kernelspec": {
      "display_name": "Python 3",
      "language": "python",
      "name": "python3"
    },
    "language_info": {
      "codemirror_mode": {
        "name": "ipython",
        "version": 3
      },
      "file_extension": ".py",
      "mimetype": "text/x-python",
      "name": "python",
      "nbconvert_exporter": "python",
      "pygments_lexer": "ipython3",
      "version": "3.6.6"
    },
    "colab": {
      "name": "EC_3.ipynb",
      "provenance": [],
      "collapsed_sections": []
    }
  },
  "cells": [
    {
      "cell_type": "markdown",
      "metadata": {
        "id": "85bel4It1ZSf",
        "colab_type": "text"
      },
      "source": [
        "# Sistemas Inteligentes\n",
        "\n",
        "## Exercício Computacional 3 - Redução de Dimensionalidade e Regressão"
      ]
    },
    {
      "cell_type": "markdown",
      "metadata": {
        "id": "Rzp5PEYv1ZSk",
        "colab_type": "text"
      },
      "source": [
        "### Identificação do Aluno"
      ]
    },
    {
      "cell_type": "markdown",
      "metadata": {
        "id": "-_Mhc1it1ZSp",
        "colab_type": "text"
      },
      "source": [
        "#### Nome Completo"
      ]
    },
    {
      "cell_type": "markdown",
      "metadata": {
        "id": "-zrQl_ik1ZSs",
        "colab_type": "text"
      },
      "source": [
        "Gabriel Murakami Alves"
      ]
    },
    {
      "cell_type": "markdown",
      "metadata": {
        "id": "PBi0otFI1ZSv",
        "colab_type": "text"
      },
      "source": [
        "#### RA"
      ]
    },
    {
      "cell_type": "markdown",
      "metadata": {
        "id": "tLa07rQg1ZS0",
        "colab_type": "text"
      },
      "source": [
        "11071916"
      ]
    },
    {
      "cell_type": "markdown",
      "metadata": {
        "id": "oiCvnqQv1ZS5",
        "colab_type": "text"
      },
      "source": [
        "Pesquise por datasets voltados para regressões que estejam disponíveis na biblioteca Scikit, então escolha um para este exercício.\n",
        "\n",
        "Utilize algum método de redução de dimensionalidade para realizar tal processo, então gere três modelos de regressão com diferentes métodos (um método diferente para cada modelo).\n",
        "\n",
        "Calcule e exiba métricas que ajudem a conferir a qualidade dos modelos gerados.\n",
        "\n",
        "Exiba gráficos que auxiliem na visualização dos dados e da curva de regressão.\n",
        "\n",
        "Compare os modelos e comente os resultados obtidos.\n",
        "\n",
        "Insira as referências utilizadas ao final."
      ]
    },
    {
      "cell_type": "markdown",
      "metadata": {
        "id": "sf0xMMbN1ZS8",
        "colab_type": "text"
      },
      "source": [
        "## Desenvolvimento"
      ]
    },
    {
      "cell_type": "code",
      "metadata": {
        "id": "_NXRJAmR1ZS-",
        "colab_type": "code",
        "colab": {}
      },
      "source": [
        "from sklearn import datasets as ds\n",
        "from sklearn.model_selection import train_test_split\n",
        "import numpy as np\n",
        "\n",
        "diabetes_dataset = ds.load_diabetes()\n",
        "diabetes_target = diabetes_dataset.target\n",
        "diabetes_data = diabetes_dataset.data\n",
        "\n",
        "boston_dataset = ds.load_boston()\n",
        "boston_target = boston_dataset.target\n",
        "boston_data = boston_dataset.data\n",
        "\n",
        "linnerud_dataset = ds.load_linnerud()\n",
        "linnerud_target = linnerud_dataset.target\n",
        "linnerud_data = linnerud_dataset.data"
      ],
      "execution_count": 0,
      "outputs": []
    },
    {
      "cell_type": "code",
      "metadata": {
        "id": "BW7RRVdqexcD",
        "colab_type": "code",
        "outputId": "4033d193-2741-4da8-bfe5-6b472f57bd03",
        "colab": {
          "base_uri": "https://localhost:8080/",
          "height": 52
        }
      },
      "source": [
        "print(diabetes_data.shape)\n",
        "print(diabetes_target.shape)"
      ],
      "execution_count": 0,
      "outputs": [
        {
          "output_type": "stream",
          "text": [
            "(442, 10)\n",
            "(442,)\n"
          ],
          "name": "stdout"
        }
      ]
    },
    {
      "cell_type": "code",
      "metadata": {
        "id": "4fI4ha_Be1SD",
        "colab_type": "code",
        "outputId": "a539e4e6-09fe-44c3-eec8-1ef9bcc62d12",
        "colab": {
          "base_uri": "https://localhost:8080/",
          "height": 52
        }
      },
      "source": [
        "print(boston_data.shape)\n",
        "print(boston_target.shape)"
      ],
      "execution_count": 0,
      "outputs": [
        {
          "output_type": "stream",
          "text": [
            "(506, 13)\n",
            "(506,)\n"
          ],
          "name": "stdout"
        }
      ]
    },
    {
      "cell_type": "code",
      "metadata": {
        "id": "5PKmzY6Be3hR",
        "colab_type": "code",
        "outputId": "f925ad23-6b9c-4261-e407-a145f7fcc98e",
        "colab": {
          "base_uri": "https://localhost:8080/",
          "height": 52
        }
      },
      "source": [
        "print(linnerud_data.shape)\n",
        "print(linnerud_target.shape)"
      ],
      "execution_count": 0,
      "outputs": [
        {
          "output_type": "stream",
          "text": [
            "(20, 3)\n",
            "(20, 3)\n"
          ],
          "name": "stdout"
        }
      ]
    },
    {
      "cell_type": "code",
      "metadata": {
        "id": "eSlKRKbOe9is",
        "colab_type": "code",
        "colab": {}
      },
      "source": [
        "from sklearn.decomposition import PCA, FastICA\n",
        "from sklearn.manifold import Isomap"
      ],
      "execution_count": 0,
      "outputs": []
    },
    {
      "cell_type": "code",
      "metadata": {
        "id": "NQJpA2sre_2-",
        "colab_type": "code",
        "outputId": "36a1fd14-9a60-448b-f6f8-876c2e2143b3",
        "colab": {
          "base_uri": "https://localhost:8080/",
          "height": 104
        }
      },
      "source": [
        "pca = PCA(n_components=1)\n",
        "diabetes_data_transformed_pca = pca.fit_transform(diabetes_data)\n",
        "\n",
        "fastica = FastICA(n_components=1)\n",
        "boston_data_transformed_ica = fastica.fit_transform(boston_data)\n",
        "\n",
        "isomap = Isomap(n_components=1)\n",
        "linnerud_data_transformed_iso = isomap.fit_transform(linnerud_data)\n",
        "linnerud_target_transformed_iso = isomap.fit_transform(linnerud_target)\n",
        "np.reshape(linnerud_data_transformed_iso, (20))"
      ],
      "execution_count": 0,
      "outputs": [
        {
          "output_type": "execute_result",
          "data": {
            "text/plain": [
              "array([   9.74809487,  -42.53875631,  -74.36624767,  -53.99299798,\n",
              "          1.12157741,  -57.5214739 ,  -57.4057784 ,  -32.85140453,\n",
              "         35.68091927,  216.85753313,  -38.25626893,   83.94307327,\n",
              "         91.92043741, -107.92431517,  -88.62201896,   87.55746336,\n",
              "        -99.63682834,   92.53130388,   82.65609615,  -48.90040857])"
            ]
          },
          "metadata": {
            "tags": []
          },
          "execution_count": 116
        }
      ]
    },
    {
      "cell_type": "code",
      "metadata": {
        "id": "adm3vAwhfLB6",
        "colab_type": "code",
        "outputId": "ae89e09c-5e4e-4f07-e034-a839f86208dc",
        "colab": {
          "base_uri": "https://localhost:8080/",
          "height": 86
        }
      },
      "source": [
        "print(\"Diabetes: \" + str(diabetes_data_transformed_pca.shape))\n",
        "print(\"Boston: \" + str(boston_data_transformed_ica.shape))\n",
        "print(\"Linnerud Data: \" + str(linnerud_data_transformed_iso.shape))\n",
        "print(\"Linnerud Target: \" + str(linnerud_target_transformed_iso.shape))"
      ],
      "execution_count": 0,
      "outputs": [
        {
          "output_type": "stream",
          "text": [
            "Diabetes: (442, 1)\n",
            "Boston: (506, 1)\n",
            "Linnerud Data: (20, 1)\n",
            "Linnerud Target: (20, 1)\n"
          ],
          "name": "stdout"
        }
      ]
    },
    {
      "cell_type": "code",
      "metadata": {
        "id": "izlG9dtMf3k9",
        "colab_type": "code",
        "outputId": "af1f8ab7-15a7-48c7-82b1-c3033b46fdda",
        "colab": {
          "base_uri": "https://localhost:8080/",
          "height": 52
        }
      },
      "source": [
        "#Diabetes\n",
        "from sklearn.metrics import mean_squared_error, r2_score\n",
        "from sklearn import linear_model\n",
        "import matplotlib.pyplot as plt\n",
        "\n",
        "plt.rcParams['figure.figsize'] = (11,7)\n",
        "\n",
        "x_train, x_test, y_train, y_test = train_test_split(diabetes_data_transformed_pca, diabetes_target, test_size=0.20)\n",
        "\n",
        "reg = linear_model.LinearRegression()\n",
        "reg.fit(x_train, y_train)\n",
        "x_test_diabetes = x_test\n",
        "y_test_diabetes = y_test\n",
        "y_pred_diabetes = reg.predict(x_test)\n",
        "\n",
        "print(\"MSE: \" + str(mean_squared_error(y_test_diabetes, y_pred_diabetes)))\n",
        "print(\"R2: \" + str(r2_score(y_test_diabetes, y_pred_diabetes)))"
      ],
      "execution_count": 0,
      "outputs": [
        {
          "output_type": "stream",
          "text": [
            "MSE: 3105.7705553962437\n",
            "R2: 0.23764457489162516\n"
          ],
          "name": "stdout"
        }
      ]
    },
    {
      "cell_type": "code",
      "metadata": {
        "id": "aMwfvGxVjQUH",
        "colab_type": "code",
        "outputId": "b3c2e78b-1c94-4758-d7e9-5a678e2a8e3d",
        "colab": {
          "base_uri": "https://localhost:8080/",
          "height": 461
        }
      },
      "source": [
        "plt.scatter(diabetes_data_transformed_pca, diabetes_target)\n",
        "plt.plot(x_test_diabetes, y_pred_diabetes, color=\"red\")\n",
        "plt.title(\"Diabetes Com PCA e Linear Regression\")\n",
        "plt.legend()\n",
        "plt.show()"
      ],
      "execution_count": 0,
      "outputs": [
        {
          "output_type": "stream",
          "text": [
            "No handles with labels found to put in legend.\n"
          ],
          "name": "stderr"
        },
        {
          "output_type": "display_data",
          "data": {
            "image/png": "[encoded data removed]",
            "text/plain": [
              "<Figure size 792x504 with 1 Axes>"
            ]
          },
          "metadata": {
            "tags": []
          }
        }
      ]
    },
    {
      "cell_type": "code",
      "metadata": {
        "id": "rf9BmKQVj3xH",
        "colab_type": "code",
        "outputId": "521c5e79-b84c-4acb-8b3b-d992c436e8ef",
        "colab": {
          "base_uri": "https://localhost:8080/",
          "height": 52
        }
      },
      "source": [
        "#Boston\n",
        "x_train, x_test, y_train, y_test = train_test_split(boston_data_transformed_ica, boston_target, test_size=0.20)\n",
        "\n",
        "rid = linear_model.Ridge(alpha=1.0)\n",
        "rid.fit(x_train, y_train)\n",
        "x_test_boston = x_test\n",
        "y_test_boston = y_test\n",
        "y_pred_boston = rid.predict(x_test)\n",
        "\n",
        "print(\"MSE: \" + str(mean_squared_error(y_test_boston, y_pred_boston)))\n",
        "print(\"R2: \" + str(r2_score(y_test_boston, y_pred_boston)))"
      ],
      "execution_count": 0,
      "outputs": [
        {
          "output_type": "stream",
          "text": [
            "MSE: 75.31413711420727\n",
            "R2: 0.1724333765677164\n"
          ],
          "name": "stdout"
        }
      ]
    },
    {
      "cell_type": "code",
      "metadata": {
        "id": "65G2v9NjloYX",
        "colab_type": "code",
        "outputId": "fb5027fa-cb67-4188-95f6-254775d11371",
        "colab": {
          "base_uri": "https://localhost:8080/",
          "height": 461
        }
      },
      "source": [
        "plt.scatter(boston_data_transformed_ica, boston_target)\n",
        "plt.plot(x_test_boston, y_pred_boston, color=\"red\")\n",
        "plt.title(\"Boston Com FastICA e Ridge\")\n",
        "plt.legend()\n",
        "plt.show()"
      ],
      "execution_count": 0,
      "outputs": [
        {
          "output_type": "stream",
          "text": [
            "No handles with labels found to put in legend.\n"
          ],
          "name": "stderr"
        },
        {
          "output_type": "display_data",
          "data": {
            "image/png": "[encoded data removed]",
            "text/plain": [
              "<Figure size 792x504 with 1 Axes>"
            ]
          },
          "metadata": {
            "tags": []
          }
        }
      ]
    },
    {
      "cell_type": "code",
      "metadata": {
        "id": "VQ9jwFogl_9-",
        "colab_type": "code",
        "outputId": "c60604c6-f8bd-4171-9df8-9bd8eac33255",
        "colab": {
          "base_uri": "https://localhost:8080/",
          "height": 52
        }
      },
      "source": [
        "#Linnerud\n",
        "x_train, x_test, y_train, y_test = train_test_split(linnerud_data_transformed_iso, linnerud_target_transformed_iso, test_size=0.20)\n",
        "\n",
        "lassolars = linear_model.LassoLars(alpha=1.0)\n",
        "lassolars.fit(x_train, y_train)\n",
        "x_test_linnerud = x_test\n",
        "y_test_linnerud = y_test\n",
        "y_pred_linnerud = lassolars.predict(x_test)\n",
        "\n",
        "print(\"MSE: \" + str(mean_squared_error(y_test_linnerud, y_pred_linnerud)))\n",
        "print(\"R2: \" + str(r2_score(y_test_linnerud, y_pred_linnerud)))"
      ],
      "execution_count": 0,
      "outputs": [
        {
          "output_type": "stream",
          "text": [
            "MSE: 848.6375673807097\n",
            "R2: -0.9812952196973503\n"
          ],
          "name": "stdout"
        }
      ]
    },
    {
      "cell_type": "code",
      "metadata": {
        "id": "r7unK8_nmuW4",
        "colab_type": "code",
        "outputId": "ff3cb5b8-88cf-4b13-b348-5d1c0d9f0397",
        "colab": {
          "base_uri": "https://localhost:8080/",
          "height": 461
        }
      },
      "source": [
        "plt.scatter(linnerud_data_transformed_iso, linnerud_target_transformed_iso)\n",
        "plt.plot(x_test_linnerud, y_pred_linnerud, color=\"red\")\n",
        "plt.title(\"Linnerud Com Isomap e Lasso LARS\")\n",
        "plt.legend()\n",
        "plt.show()"
      ],
      "execution_count": 0,
      "outputs": [
        {
          "output_type": "stream",
          "text": [
            "No handles with labels found to put in legend.\n"
          ],
          "name": "stderr"
        },
        {
          "output_type": "display_data",
          "data": {
            "image/png": "[encoded data removed]",
            "text/plain": [
              "<Figure size 792x504 with 1 Axes>"
            ]
          },
          "metadata": {
            "tags": []
          }
        }
      ]
    },
    {
      "cell_type": "markdown",
      "metadata": {
        "id": "2um4y2kbrFuL",
        "colab_type": "text"
      },
      "source": [
        "Referências:\n",
        "<br>\n",
        "<a target=\"_blank\" href=\"https://scikit-learn.org/stable/modules/generated/sklearn.datasets.load_boston.html#sklearn.datasets.load_boston\">Boston</a>\n",
        "<br>\n",
        "<a target=\"_blank\" href=\"https://scikit-learn.org/stable/modules/generated/sklearn.datasets.load_diabetes.html#sklearn.datasets.load_diabetes\">Diabetes</a>\n",
        "<br>\n",
        "<a target=\"_blank\" href=\"https://scikit-learn.org/stable/modules/generated/sklearn.datasets.load_linnerud.html#sklearn.datasets.load_linnerud\">Linnerud</a>\n",
        "<br>\n",
        "<a target=\"_blank\" href=\"https://scikit-learn.org/stable/modules/generated/sklearn.linear_model.LinearRegression.html\">LinearRegression</a>\n",
        "<br>\n",
        "<a target=\"_blank\" href=\"https://scikit-learn.org/stable/modules/generated/sklearn.linear_model.LassoLars.html#sklearn.linear_model.LassoLars\">LassoLars</a>\n",
        "<br>\n",
        "<a target=\"_blank\" href=\"https://scikit-learn.org/stable/modules/generated/sklearn.manifold.Isomap.html\">Isomap</a>\n",
        "<br>\n",
        "<a target=\"_blank\" href=\"https://scikit-learn.org/stable/modules/generated/sklearn.decomposition.FastICA.html\">FastICA</a>\n",
        "<br>\n",
        "<a target=\"_blank\" href=\"https://scikit-learn.org/stable/modules/generated/sklearn.decomposition.PCA.html\">PCA</a>\n"
      ]
    }
  ]
}